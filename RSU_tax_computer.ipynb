{
 "cells": [
  {
   "cell_type": "code",
   "execution_count": 1,
   "id": "9d6ea4fa",
   "metadata": {
    "ExecuteTime": {
     "end_time": "2024-05-09T14:37:43.566397Z",
     "start_time": "2024-05-09T14:37:43.563445Z"
    }
   },
   "outputs": [],
   "source": [
    "import pandas as pd\n",
    "import datetime as datetime\n",
    "import numpy as np\n",
    "import copy\n",
    "from RSU_functions import * \n",
    "\n",
    "# If you want to change your marginal income tax (above 72k of taxable income, it is at 41%). Not really needed\n",
    "tax_info_dict = {'TMI_IR': 0.3, 'cotisation': 0.172, 'flat_tax_plus_value': 0.3, 'deductible_csg':0.0680}"
   ]
  },
  {
   "cell_type": "markdown",
   "id": "33ca80c8",
   "metadata": {},
   "source": [
    "# Put here all sales and vesting event from EquatePlus\n",
    "Please put all event until end of 2024, including sales / vesting from before (other years). If you have sales in 2023 or 2024 either rely on the built in function or please du check yourself how you reported them before. \n",
    "\n",
    "If you sold everything you had at one point, before 2024 then you can put only vesting and transaction after this big sale event.\n",
    "\n",
    "If you sold everything in 2024, please put all information in 2024 and even before if you want the CSG rebate computation, if you don't, you may start with all events starting after this \"big sales\". Please note this CSG rebate should be prefilled, so it is only to check.\n",
    "\n",
    "If you did not sell everything, please find out which stock you declared selling in your previous declaration (for stock sold before this year of 2024) and add the amount sold to the vesting event as amount_already_declared\n",
    "\n",
    "For sales, you need to add the stock unit price. In equate plus, go to the bibliotheque menu, then transaction. For sales, click on the date which is clickable and then report \"prix de vente\" IN USD (VERY IMPORTANT).\n",
    "\n",
    "For Macron law, only stock with grant date later than the 25th of june 2020 are Macron 3. Indeed (ridiculously) the date of interest for the macron law 3 to kick in is not the grant date, but the date of the AG autorising the grant. Sadly all of our grants coming before the June 25th 2020 are NOT macron law eligible. Should you decide to have your (wrong) interpretation of the law, it should work though.\n",
    "\n",
    "If you sold more than 300k this year, please note that the macron law 1 or 2 differs. This notebook is not handling it correctly."
   ]
  },
  {
   "cell_type": "code",
   "execution_count": 2,
   "id": "e4ab2a15",
   "metadata": {
    "ExecuteTime": {
     "end_time": "2024-05-09T14:38:24.643068Z",
     "start_time": "2024-05-09T14:38:24.626721Z"
    }
   },
   "outputs": [],
   "source": [
    "\n",
    "vesting_event = [\n",
    "    # Each row for a vesting. If you have more vesting, please copy the full line with the comma at the end, and then put your value on each row. \n",
    "    # You should fill just the date and the amount. Please let macron_law_id at 0, we do not have newer RSU. If you decide \n",
    "    # to have your personnal interpretation of the law, or have non-criteo RSU, please put 3 instead.\n",
    "    {'date':datetime.datetime(2019,12,13),'amount':225,'macron_law_id':0, 'event':'vesting', 'amount_already_declared':225},\n",
    "    {'date':datetime.datetime(2020,3,13),'amount':28,'macron_law_id':0, 'event':'vesting', 'amount_already_declared':28},\n",
    "    {'date':datetime.datetime(2020,6,15),'amount':29,'macron_law_id':0, 'event':'vesting', 'amount_already_declared':29},\n",
    "    {'date':datetime.datetime(2020,9,14),'amount':28,'macron_law_id':0, 'event':'vesting', 'amount_already_declared':28},\n",
    "    {'date':datetime.datetime(2020,12,14),'amount':28,'macron_law_id':0, 'event':'vesting', 'amount_already_declared':28},\n",
    "    # Amount sold is only for vested stock that you sold and declared in the years before. Here the previous stock was sold the 16 of december\n",
    "    # so it is the last that I am filling. It is not necessary to fill it if you sold everything you had at your last sale event last year\n",
    "    # here it should therefore do nothing because in this example, all stocks were sold. In case of doubt, just fill it.\n",
    "    # When filled, these stocks are sold in priority over all else at the next transaction.\n",
    "    # If I find stocks that were supposedly declared in 2023 that are sold in 2024, I will raise an error and ask you to check what you wrote. \n",
    "    {'date':datetime.datetime(2023,3,15),'amount':28,'macron_law_id':0, 'event':'vesting'},\n",
    "    {'date':datetime.datetime(2023,6,14),'amount':28,'macron_law_id':0, 'event':'vesting'},\n",
    "    {'date':datetime.datetime(2023,7,26),'amount':600,'macron_law_id':0, 'event':'vesting'},\n",
    "    {'date':datetime.datetime(2023,9,13),'amount':28,'macron_law_id':0, 'event':'vesting'},\n",
    "    {'date':datetime.datetime(2023,10,25),'amount':75,'macron_law_id':0, 'event':'vesting'},\n",
    "    {'date':datetime.datetime(2023,12,13),'amount':28,'macron_law_id':0, 'event':'vesting'},\n",
    "    {'date':datetime.datetime(2024,1,25),'amount':75,'macron_law_id':0, 'event':'vesting'},\n",
    "    {'date':datetime.datetime(2024,4,25),'amount':75,'macron_law_id':0, 'event':'vesting'},\n",
    "    {'date':datetime.datetime(2024,6,22),'amount':250,'macron_law_id':0, 'event':'vesting'},\n",
    "    {'date':datetime.datetime(2024,7,25),'amount':75,'macron_law_id':0, 'event':'vesting'},\n",
    "    {'date':datetime.datetime(2024,9,22),'amount':312,'macron_law_id':0, 'event':'vesting'},\n",
    "    #     I PUT macron law id 3 for the last vesting taht is sold (the next one in december is not sold) to show you how to put it\n",
    "    {'date':datetime.datetime(2024,10,25),'amount':75,'macron_law_id':3, 'event':'vesting'},\n",
    "    {'date':datetime.datetime(2024,12,22),'amount':313,'macron_law_id':0, 'event':'vesting'}\n",
    "]\n",
    "\n",
    "selling_event = [\n",
    "    # Each row for a sale. If you have more sale, please copy the full line with the comma at the end, and then put your value on each row. \n",
    "    # You should just fill the date, amount, and stock_unit_price_USD, and total_fee_dollars \n",
    "    {'date':datetime.datetime(2020,8,3),'amount':282, 'event':'sale', 'stock_unit_price_USD':13.62, 'total_fee_dollars':38.5},\n",
    "    {'date':datetime.datetime(2020,12,16),'amount':56, 'event':'sale', 'stock_unit_price_USD':18.80, 'total_fee_dollars':38.5},\n",
    "    {'date':datetime.datetime(2023,3,16),'amount':28, 'event':'sale', 'stock_unit_price_USD':33.37, 'total_fee_dollars':38.5},\n",
    "    {'date':datetime.datetime(2023,8,6),'amount':628, 'event':'sale', 'stock_unit_price_USD':39.18, 'total_fee_dollars':108.26},\n",
    "    {'date':datetime.datetime(2023,9,14),'amount':28, 'event':'sale', 'stock_unit_price_USD':36.72, 'total_fee_dollars':38.5},\n",
    "    {'date':datetime.datetime(2023,11,5),'amount':75, 'event':'sale', 'stock_unit_price_USD':40.57, 'total_fee_dollars':38.5},\n",
    "    {'date':datetime.datetime(2023,12,16),'amount':28, 'event':'sale', 'stock_unit_price_USD':40.71, 'total_fee_dollars':38.5},\n",
    "    {'date':datetime.datetime(2024,5,6),'amount':50, 'event':'sale', 'stock_unit_price_USD':26.00, 'total_fee_dollars':38.5},\n",
    "    {'date':datetime.datetime(2024,8,8),'amount':30, 'event':'sale', 'stock_unit_price_USD':26.821, 'total_fee_dollars':65.71},\n",
    "    {'date':datetime.datetime(2024,8,10),'amount':75, 'event':'sale', 'stock_unit_price_USD':27.478, 'total_fee_dollars':93.7},\n",
    "    {'date':datetime.datetime(2024,8,15),'amount':320, 'event':'sale', 'stock_unit_price_USD':27.478, 'total_fee_dollars':93.7},\n",
    "    {'date':datetime.datetime(2024,11,3),'amount':387, 'event':'sale', 'stock_unit_price_USD':24.845, 'total_fee_dollars':47.11},\n",
    "\n",
    "]"
   ]
  },
  {
   "cell_type": "code",
   "execution_count": 3,
   "id": "df179f5c",
   "metadata": {
    "ExecuteTime": {
     "end_time": "2024-05-09T14:38:25.150746Z",
     "start_time": "2024-05-09T14:38:25.147280Z"
    }
   },
   "outputs": [
    {
     "data": {
      "text/markdown": [
       "## Selling events recap\n",
       "| date | amount | event | price (\\$) | fee (\\$) | total (\\$) |\n",
       "|------|--------|-------|-------|-----|-------|\n",
       "| 06/05/2024 | 50 | sale | 26.0 | 38.5 | 1300.0 |\n",
       "| 08/08/2024 | 30 | sale | 26.821 | 65.71 | 804.63 |\n",
       "| 10/08/2024 | 75 | sale | 27.478 | 93.7 | 2060.85 |\n",
       "| 15/08/2024 | 320 | sale | 27.478 | 93.7 | 8792.96 |\n",
       "| 03/11/2024 | 387 | sale | 24.845 | 47.11 | 9615.02 |\n",
       "\n",
       "Your **total sales** amount in dollars in 2024 is equal to **22573.46 \\$**\n"
      ]
     },
     "metadata": {},
     "output_type": "display_data"
    }
   ],
   "source": [
    "recap = '''## Selling events recap\n",
    "| date | amount | event | price (\\$) | fee (\\$) | total (\\$) |\n",
    "|------|--------|-------|-------|-----|-------|\n",
    "'''\n",
    "\n",
    "total_amount = 0\n",
    "for ev in sorted(selling_event, key = lambda k: k['date']):\n",
    "    if ev['date'].year == 2024:\n",
    "        total_amount += ev['amount'] * ev['stock_unit_price_USD']\n",
    "        recap += '''| {} | {} | {} | {} | {} | {} |\\n'''.format(\n",
    "            ev['date'].strftime('%d/%m/%Y'),\n",
    "            ev['amount'],\n",
    "            ev['event'],\n",
    "            ev['stock_unit_price_USD'],\n",
    "            ev['total_fee_dollars'],\n",
    "            np.round(ev['amount'] * ev['stock_unit_price_USD'], 2))\n",
    "\n",
    "\n",
    "recap += '\\n'\n",
    "recap += 'Your **total sales** amount in dollars in 2024 is equal to **{} \\$**\\n'.format(np.round(total_amount, 2))\n",
    "\n",
    "from IPython.display import display_markdown\n",
    "\n",
    "display_markdown(recap, raw=True)\n"
   ]
  },
  {
   "cell_type": "code",
   "execution_count": 4,
   "id": "2f0b7f6c-554e-4276-8a27-9330c6aee6b7",
   "metadata": {},
   "outputs": [
    {
     "data": {
      "text/markdown": [
       "## Vesting events recap\n",
       "\n",
       "| date | amount | event | macron | remaining |\n",
       "|------|--------|-------|-------|--|\n",
       "| 13/12/2019 | 225 | vesting | 0 | 225 |\n",
       "| 13/03/2020 | 28 | vesting | 0 | 28 |\n",
       "| 15/06/2020 | 29 | vesting | 0 | 29 |\n",
       "| 14/09/2020 | 28 | vesting | 0 | 28 |\n",
       "| 14/12/2020 | 28 | vesting | 0 | 28 |\n",
       "| 15/03/2023 | 28 | vesting | 0 | 28 |\n",
       "| 14/06/2023 | 28 | vesting | 0 | 28 |\n",
       "| 26/07/2023 | 600 | vesting | 0 | 600 |\n",
       "| 13/09/2023 | 28 | vesting | 0 | 28 |\n",
       "| 25/10/2023 | 75 | vesting | 0 | 75 |\n",
       "| 13/12/2023 | 28 | vesting | 0 | 28 |\n",
       "| 25/01/2024 | 75 | vesting | 0 | 75 |\n",
       "| 25/04/2024 | 75 | vesting | 0 | 75 |\n",
       "| 22/06/2024 | 250 | vesting | 0 | 250 |\n",
       "| 25/07/2024 | 75 | vesting | 0 | 75 |\n",
       "| 22/09/2024 | 312 | vesting | 0 | 312 |\n",
       "| 25/10/2024 | 75 | vesting | 3 | 75 |\n",
       "| 22/12/2024 | 313 | vesting | 0 | 313 |\n"
      ]
     },
     "metadata": {},
     "output_type": "display_data"
    }
   ],
   "source": [
    "recap = '''## Vesting events recap\n",
    "\n",
    "| date | amount | event | macron | remaining |\n",
    "|------|--------|-------|-------|--|\n",
    "'''\n",
    "\n",
    "for ev in sorted(vesting_event, key = lambda k: k['date']):\n",
    "    recap += '''| {} | {} | {} | {} | {} |\\n'''.format(\n",
    "        ev['date'].strftime('%d/%m/%Y'),\n",
    "        ev['amount'],\n",
    "        ev['event'],\n",
    "        ev['macron_law_id'],\n",
    "        ev['amount']\n",
    "    )\n",
    "\n",
    "display_markdown(recap, raw=True)"
   ]
  },
  {
   "cell_type": "markdown",
   "id": "7b7ed219",
   "metadata": {},
   "source": [
    "# Computation occurs here, please just run these cells"
   ]
  },
  {
   "cell_type": "code",
   "execution_count": 5,
   "id": "899a76a8",
   "metadata": {
    "ExecuteTime": {
     "end_time": "2024-05-09T14:38:27.753891Z",
     "start_time": "2024-05-09T14:38:27.745214Z"
    },
    "code_folding": []
   },
   "outputs": [],
   "source": [
    "all_events_sorted = sorted(vesting_event + selling_event, key = lambda k: k['date'])\n",
    "\n",
    "portfolio = {}\n",
    "portfolio['available_stock'] = []\n",
    "portfolio['sale_event_recap'] = []\n",
    "for event in all_events_sorted:\n",
    "    if event['event'] == 'vesting':\n",
    "        portfolio['available_stock'].append(copy.deepcopy(event))\n",
    "    if event['event'] == 'sale':\n",
    "        available_stock_after_transaction, sale_event_recap = get_sales_result(event, portfolio,\n",
    "                                                                               matching_method = get_sale_order_from_optionality)\n",
    "        portfolio['available_stock'] = available_stock_after_transaction\n",
    "        portfolio['sale_event_recap'].append(sale_event_recap)\n",
    "    if event['date'].year == 2024:\n",
    "        sum_stock_supposed_to_be_sold = 0\n",
    "        for stock in portfolio['available_stock']:\n",
    "            sum_stock_supposed_to_be_sold += stock.get('amount_already_declared', 0)\n",
    "        if sum_stock_supposed_to_be_sold> 0:\n",
    "            raise Exception(\n",
    "            '''\n",
    "            you have stock that you already declared in the previous years that are getting sold in 2024. Please recheck\n",
    "            your inputs. If you declared them, they should have been sold in the past.            \n",
    "            ''')\n",
    "        "
   ]
  },
  {
   "cell_type": "code",
   "execution_count": 6,
   "id": "74af5170",
   "metadata": {
    "ExecuteTime": {
     "end_time": "2024-05-09T14:38:28.291863Z",
     "start_time": "2024-05-09T14:38:28.288207Z"
    }
   },
   "outputs": [
    {
     "data": {
      "text/markdown": [
       "## Unused stocks after 2024 transactions\n",
       "\n",
       "These stocks should still be on your EquatePlus account if you haven't sold in 2025 yet.\n",
       "\n",
       "| date | amount | event | macron | remaining |\n",
       "|------|--------|-------|-------|--|\n",
       "| 22/12/2024 | 313 | vesting | 0 | 313 |\n"
      ]
     },
     "metadata": {},
     "output_type": "display_data"
    }
   ],
   "source": [
    "recap = '''## Unused stocks after 2024 transactions\n",
    "\n",
    "These stocks should still be on your EquatePlus account if you haven't sold in 2025 yet.\n",
    "\n",
    "| date | amount | event | macron | remaining |\n",
    "|------|--------|-------|-------|--|\n",
    "'''\n",
    "\n",
    "for ev in sorted(available_stock_after_transaction, key = lambda k: k['date']):\n",
    "    recap += '''| {} | {} | {} | {} | {} |\\n'''.format(\n",
    "        ev['date'].strftime('%d/%m/%Y'),\n",
    "        ev['amount'],\n",
    "        ev['event'],\n",
    "        ev['macron_law_id'],\n",
    "        ev['amount']\n",
    "    )\n",
    "\n",
    "display_markdown(recap, raw=True)"
   ]
  },
  {
   "cell_type": "markdown",
   "id": "6882247b",
   "metadata": {},
   "source": [
    "# Results to put in your taxation returns\n",
    "\n",
    "The following cells prints all transaction for the form **No 2074**.\n",
    "\n",
    "For the cell **511**, you can name it `Action Criteo et Computershare`.\n",
    "\n",
    "Vesting amount with moins value, rebate etc... are for debugging purposes, please look if they make sense.\n",
    "\n",
    "To explain quickly what we do here, for each sale, you are taxed on your vesting amount (the value of the stock the day you vest them) as if it was income and with the 30% flat tax for any capital gain on top of the vesting amount.\n",
    "\n",
    "TAX = `vesting gain` x `progressive income tax rate` + `capital gain` x `flat tax rate` + `total gain` x `social taxes rate`\n",
    "\n",
    "which is approx:\n",
    "\n",
    "TAX = `vesting gain` x 30% + `capital gain` x 30% + `total gain` x 17,2%\n",
    "\n",
    "In order to avoid to tax you on money you do not have, if you have a capital loss, instead of declaring it as a capital loss, it is removed from your vesting amount and in this case, your selling amount(money you get from your sales) becomes your vesting amount.\n",
    "\n",
    "Then, because this is 🇫🇷 France, we created tax rebate that depends on if the stock was granted to you after the `25th of june 2020`\n",
    "* after `25th of june 2020`: you only pay income tax on `50%` of the vesting gain because you fall under the **Macron 3 regime**\n",
    "* before `25th of june 2020`: it also depends if you have kept the stock **2 years after the vesting**. You gain the `50% rebate` after 2 years - `65%` after 8 years\n",
    "\n",
    "There is a specificity if you sell more than **300k**. This case is **NOT** well handled in this notebook and it won't until.\n",
    "\n",
    "This explains all the complex computation below."
   ]
  },
  {
   "cell_type": "code",
   "execution_count": 7,
   "id": "faf3d9c5",
   "metadata": {
    "ExecuteTime": {
     "end_time": "2024-05-09T14:38:30.390623Z",
     "start_time": "2024-05-09T14:38:30.371930Z"
    },
    "scrolled": true
   },
   "outputs": [],
   "source": [
    "tax = 0\n",
    "Capital_gain = 0\n",
    "vesting_gain_before_rebate = 0\n",
    "rebate_amount_macron_3 = 0\n",
    "rebate_amount_from_detention = 0\n",
    "total_selling_price = 0\n",
    "csg_rebate = 0\n",
    "Capital_gain_2023 = 0\n",
    "rebate_amount_2023 = 0\n",
    "vesting_gain_before_rebate_2023 = 0\n",
    "\n",
    "for event in portfolio['sale_event_recap']:\n",
    "    for ev in event:            \n",
    "        if ev['date de la cession (513)'].year ==2024:\n",
    "            tax +=ev['tax']\n",
    "            total_selling_price += ev['prix de cession net (518)']\n",
    "            vesting_gain_before_rebate += ev['vesting_amount_with_moins_value']\n",
    "\n",
    "            if ev['macron_law_id'] == 3:\n",
    "                rebate_amount_macron_3 += ev['rebate_with_moins_value']\n",
    "            else:\n",
    "                rebate_amount_from_detention += ev['rebate_with_moins_value']\n",
    "\n",
    "            if ev['resultat'] > 0:\n",
    "                Capital_gain += ev['resultat']\n",
    "            \n",
    "        if ev['date de la cession (513)'].year == 2023:\n",
    "            # here it is to compute CSG than can be dedudected from last year, box 6DE. Only what is \n",
    "            # subject to IR can be deducted, hence only the  vesting amount after rebate and moins value\n",
    "            # will be deductible\n",
    "            if ev['resultat'] > 0:\n",
    "                Capital_gain_2023 += ev['resultat']\n",
    "\n",
    "            rebate_amount_2023 += ev['rebate_with_moins_value']\n",
    "            vesting_gain_before_rebate_2023 += ev['vesting_amount_with_moins_value']\n"
   ]
  },
  {
   "cell_type": "code",
   "execution_count": 8,
   "id": "5a32ed18-b37e-4022-bb8c-6b28b2349473",
   "metadata": {},
   "outputs": [
    {
     "data": {
      "text/markdown": [
       "|   | Sell |\n",
       "| -- | -- |\n",
       "| **(511)** Titre | Criteo actions |\n",
       "| **(513)** Date de cession | 15/08/2024 |\n",
       "| **(514)** Valeur unitaire de cession | 24.96 |\n",
       "| **(515)** Nombre de titres cédés | 75 |\n",
       "| **(516)** Montant total | 1872 |\n",
       "| **(517)** Frais de cession | 42.55 |\n",
       "| **(518)** Prix de cession net | 1829 |\n",
       "| **(520)** Prix unitaire d'acquisition | 23.53 |\n",
       "| **(521 et 523)** Prix d'acquisition global | 1764.67 |\n",
       "| **(524)** Résultat | 64.41 |\n"
      ]
     },
     "metadata": {},
     "output_type": "display_data"
    }
   ],
   "source": [
    "print_transactions(portfolio, 2024, True)"
   ]
  },
  {
   "cell_type": "markdown",
   "id": "c8dc2f18-a8b2-45b8-bd41-151bfc0c5341",
   "metadata": {
    "ExecuteTime": {
     "end_time": "2024-05-09T12:42:20.463219Z",
     "start_time": "2024-05-09T12:42:20.458892Z"
    }
   },
   "source": [
    "# For debugging / your interest only\n",
    "\n",
    "The following cell shows all transaction with a loss.\n",
    "\n",
    "You don't have to report them in the plus or moins value, but they have been used to compute values in form **2042 C** and are shown here if you want to check that there isn't any mistake or understand better the process."
   ]
  },
  {
   "cell_type": "code",
   "execution_count": 9,
   "id": "7c86ffb9",
   "metadata": {
    "ExecuteTime": {
     "end_time": "2024-05-09T14:38:31.541482Z",
     "start_time": "2024-05-09T14:38:31.520773Z"
    }
   },
   "outputs": [
    {
     "data": {
      "text/markdown": [
       "## (debug only) Transactions with a loss\n",
       "\n",
       "|   | Sell | Sell | Sell | Sell | Sell | Sell | Sell | Sell |\n",
       "| -- | -- | -- | -- | -- | -- | -- | -- | -- |\n",
       "| **(511)** Titre | Criteo actions | Criteo actions | Criteo actions | Criteo actions | Criteo actions | Criteo actions | Criteo actions | Criteo actions |\n",
       "| **(513)** Date de cession | 06/05/2024 | 08/08/2024 | 10/08/2024 | 10/08/2024 | 10/08/2024 | 15/08/2024 | 03/11/2024 | 03/11/2024 |\n",
       "| **(514)** Valeur unitaire de cession | 24.13 | 24.54 | 25.15 | 25.15 | 25.15 | 24.96 | 22.79 | 22.79 |\n",
       "| **(515)** Nombre de titres cédés | 50 | 30 | 45 | 25 | 5 | 245 | 75 | 312 |\n",
       "| **(516)** Montant total | 1206.38 | 736.17 | 1131.82 | 628.79 | 125.76 | 6113.99 | 1708.89 | 7108.99 |\n",
       "| **(517)** Frais de cession | 35.73 | 60.12 | 28.59 | 28.59 | 28.59 | 42.55 | 21.6 | 21.6 |\n",
       "| **(518)** Prix de cession net | 1170.66 | 676.05 | 1103.23 | 600.2 | 97.17 | 6071.44 | 1687.29 | 7087.39 |\n",
       "| **(520)** Prix unitaire d'acquisition | 34.18 | 41.5 | 41.5 | 34.18 | 33.55 | 33.55 | 38.08 | 38.03 |\n",
       "| **(521 et 523)** Prix d'acquisition global | 1708.96 | 1244.95 | 1867.43 | 854.48 | 167.75 | 8219.94 | 2855.89 | 11866.61 |\n",
       "| **(524)** Résultat | -538.3 | -568.91 | -764.2 | -254.28 | -70.59 | -2148.51 | -1168.6 | -4779.22 |\n"
      ]
     },
     "metadata": {},
     "output_type": "display_data"
    }
   ],
   "source": [
    "print_transactions(portfolio, 2024, False)"
   ]
  },
  {
   "cell_type": "markdown",
   "id": "8e9ad7bd",
   "metadata": {},
   "source": [
    "Normally here you should have automatically computed the sum of \"plus value\", and it should be equal to the value printed in the cell below.\n",
    "\n",
    "For all transaction resulting in a moins value, I removed the moins value from the vesting price to redue the taxes"
   ]
  },
  {
   "cell_type": "code",
   "execution_count": 10,
   "id": "0a0ebda4",
   "metadata": {
    "ExecuteTime": {
     "end_time": "2024-05-09T14:38:32.502771Z",
     "start_time": "2024-05-09T14:38:32.500023Z"
    }
   },
   "outputs": [
    {
     "data": {
      "text/markdown": [
       "# Capital gain\n",
       "\n",
       "The total capital gain is **64.41 €**"
      ]
     },
     "metadata": {},
     "output_type": "display_data"
    }
   ],
   "source": [
    "display_markdown(f'''# Capital gain\n",
    "\n",
    "The total capital gain is **{np.round(Capital_gain,2)} €**''', raw=True)\n"
   ]
  },
  {
   "cell_type": "code",
   "execution_count": 11,
   "id": "c79c47af",
   "metadata": {
    "ExecuteTime": {
     "end_time": "2024-05-09T14:38:33.333215Z",
     "start_time": "2024-05-09T14:38:33.330333Z"
    }
   },
   "outputs": [
    {
     "data": {
      "text/markdown": [
       "TAX ~= (TMI) `19671.0` x `0.3` + (Social taxes) `20525.44` x `0.172` + (Capital gain) `64.41` x `0.3`"
      ]
     },
     "metadata": {},
     "output_type": "display_data"
    }
   ],
   "source": [
    "vesting_gain_after_rebate_and_moins_value = vesting_gain_before_rebate - rebate_amount_macron_3 - rebate_amount_from_detention\n",
    "total_tax_to_pay_approx = vesting_gain_after_rebate_and_moins_value * (tax_info_dict['TMI_IR']) + vesting_gain_before_rebate * tax_info_dict[\n",
    "        'cotisation'] + Capital_gain * tax_info_dict[\n",
    "                     'flat_tax_plus_value']\n",
    "\n",
    "display_markdown(\"TAX ~= (TMI) `{}` x `{}` + (Social taxes) `{}` x `{}` + (Capital gain) `{}` x `{}`\".format(\n",
    "    np.round(vesting_gain_after_rebate_and_moins_value, 2),\n",
    "    tax_info_dict['TMI_IR'],\n",
    "    np.round(vesting_gain_before_rebate, 2),\n",
    "    tax_info_dict['cotisation'],\n",
    "    np.round(Capital_gain, 2),\n",
    "    tax_info_dict['flat_tax_plus_value']),\n",
    "                 raw = True)\n"
   ]
  },
  {
   "cell_type": "code",
   "execution_count": 12,
   "id": "be5aa9e9",
   "metadata": {
    "ExecuteTime": {
     "end_time": "2024-05-09T14:38:33.913549Z",
     "start_time": "2024-05-09T14:38:33.907104Z"
    }
   },
   "outputs": [
    {
     "data": {
      "text/markdown": [
       "## Form 2042C"
      ]
     },
     "metadata": {},
     "output_type": "display_data"
    },
    {
     "data": {
      "text/markdown": [
       "**1TZ** with 19671.0 €"
      ]
     },
     "metadata": {},
     "output_type": "display_data"
    },
    {
     "data": {
      "text/markdown": [
       "**1UZ** abbatement pour duree de detention, the rebate in euro 0.0 €"
      ]
     },
     "metadata": {},
     "output_type": "display_data"
    },
    {
     "data": {
      "text/markdown": [
       "**1WZ** abattement de 50%, the rebate in euro 854.45 €"
      ]
     },
     "metadata": {},
     "output_type": "display_data"
    },
    {
     "data": {
      "text/markdown": [
       "**3VG** with capital gain 64.41 €"
      ]
     },
     "metadata": {},
     "output_type": "display_data"
    },
    {
     "data": {
      "text/markdown": [
       "**3VH** with capital loss **0 €** except if you have other sources of capital losses. You put **0 €** because you are removing these losses from the **1TZ** field."
      ]
     },
     "metadata": {},
     "output_type": "display_data"
    },
    {
     "data": {
      "text/markdown": [
       "You sold for **20322.49** € in stocks."
      ]
     },
     "metadata": {},
     "output_type": "display_data"
    },
    {
     "data": {
      "text/markdown": [
       "You will pay around  **9451.0** € this amount of tax."
      ]
     },
     "metadata": {},
     "output_type": "display_data"
    }
   ],
   "source": [
    "display_markdown(f'## Form 2042C', raw = True)\n",
    "\n",
    "if vesting_gain_after_rebate_and_moins_value > 300000:\n",
    "    display_markdown(f'**1TT** with {np.round(vesting_gain_after_rebate_and_moins_value - 300000, 2)}', raw = True)\n",
    "\n",
    "display_markdown(f'**1TZ** with {np.round(vesting_gain_after_rebate_and_moins_value, 2)} €', raw = True)\n",
    "display_markdown(f'**1UZ** abbatement pour duree de detention, the rebate in euro {np.round(rebate_amount_from_detention, 2)} €', raw = True)\n",
    "display_markdown(f'**1WZ** abattement de 50%, the rebate in euro {np.round(rebate_amount_macron_3, 2)} €', raw = True)\n",
    "\n",
    "display_markdown(f'**3VG** with capital gain {np.round(Capital_gain, 2)} €', raw = True)\n",
    "display_markdown(f'**3VH** with capital loss **0 €** except if you have other sources of capital losses. You put **0 €** because you are removing these losses from the **1TZ** field.', raw = True)\n",
    "\n",
    "display_markdown(f'You sold for **{np.round(total_selling_price,2)}** € in stocks.', raw = True)\n",
    "display_markdown(f'You will pay around  **{np.round(total_tax_to_pay_approx ,2)}** € this amount of tax.', raw = True)"
   ]
  },
  {
   "cell_type": "markdown",
   "id": "1fb75964",
   "metadata": {},
   "source": [
    "# CSG deduction from previous year (2023)\n",
    "\n",
    "WARNING WE CHANGED THE WAY TO COMPENSATE BETWEEN PLUS OR MOINS VALUE SO YOU MAY HAVE SMALL CHANGES HERE\n",
    "\n",
    "If pre filled, keep the pre filled version"
   ]
  },
  {
   "cell_type": "markdown",
   "id": "95499afc",
   "metadata": {},
   "source": [
    "If you have your previous tax filling, it should be equal to your **1TZ** case of last year times the deductible CSG, which is at **6.8%**. If you don't, you can use this, should work. It is very likely to be pre filled though. Still there in case of need\n"
   ]
  },
  {
   "cell_type": "code",
   "execution_count": 13,
   "id": "864aa8b5",
   "metadata": {
    "ExecuteTime": {
     "end_time": "2024-05-09T14:38:41.813043Z",
     "start_time": "2024-05-09T14:38:41.809736Z"
    }
   },
   "outputs": [],
   "source": [
    "if vesting_gain_before_rebate_2023 ==0:\n",
    "    print('sorry, no CSG to be deducted for this year!')\n",
    "    vesting_gain_after_rebate_and_moins_value_2023 =0\n",
    "    deductible_csg = vesting_gain_before_rebate_2023 * tax_info_dict['deductible_csg']\n",
    "else:\n",
    "    vesting_gain_after_rebate_and_moins_value_2023 = vesting_gain_before_rebate_2023 - rebate_amount_2023\n",
    "    deductible_csg = vesting_gain_after_rebate_and_moins_value_2023 * tax_info_dict['deductible_csg']\n",
    "   "
   ]
  },
  {
   "cell_type": "code",
   "execution_count": 14,
   "id": "cefe7306",
   "metadata": {
    "ExecuteTime": {
     "end_time": "2024-05-09T14:38:42.276817Z",
     "start_time": "2024-05-09T14:38:42.273361Z"
    }
   },
   "outputs": [
    {
     "name": "stdout",
     "output_type": "stream",
     "text": [
      "fill box 6DE 1551.521097080306\n"
     ]
    }
   ],
   "source": [
    "print('fill box 6DE', deductible_csg)"
   ]
  },
  {
   "cell_type": "code",
   "execution_count": null,
   "id": "588f9439-77fc-4cb4-9f07-87ef1e665b8a",
   "metadata": {},
   "outputs": [],
   "source": []
  }
 ],
 "metadata": {
  "hide_input": false,
  "kernelspec": {
   "display_name": "Python 3 (ipykernel)",
   "language": "python",
   "name": "python3"
  },
  "language_info": {
   "codemirror_mode": {
    "name": "ipython",
    "version": 3
   },
   "file_extension": ".py",
   "mimetype": "text/x-python",
   "name": "python",
   "nbconvert_exporter": "python",
   "pygments_lexer": "ipython3",
   "version": "3.11.8"
  },
  "toc": {
   "base_numbering": 1,
   "nav_menu": {},
   "number_sections": true,
   "sideBar": true,
   "skip_h1_title": false,
   "title_cell": "Table of Contents",
   "title_sidebar": "Contents",
   "toc_cell": false,
   "toc_position": {},
   "toc_section_display": true,
   "toc_window_display": false
  }
 },
 "nbformat": 4,
 "nbformat_minor": 5
}

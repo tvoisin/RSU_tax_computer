{
 "cells": [
  {
   "cell_type": "code",
   "execution_count": 1,
   "id": "56603389",
   "metadata": {
    "ExecuteTime": {
     "end_time": "2024-05-09T14:37:43.560605Z",
     "start_time": "2024-05-09T14:37:43.111994Z"
    }
   },
   "outputs": [],
   "source": [
    "import pandas as pd\n",
    "import datetime as datetime\n",
    "import numpy as np\n",
    "import copy\n",
    "from RSU_functions import * "
   ]
  },
  {
   "cell_type": "code",
   "execution_count": 2,
   "id": "9d6ea4fa",
   "metadata": {
    "ExecuteTime": {
     "end_time": "2024-05-09T14:37:43.566397Z",
     "start_time": "2024-05-09T14:37:43.563445Z"
    }
   },
   "outputs": [],
   "source": [
    "# If you want to change your marginal income tax (above 72k of taxable income, it is at 41%). Not really needed\n",
    "tax_info_dict = {'TMI_IR': 0.3, 'cotisation': 0.172, 'flat_tax_plus_value': 0.3, 'deductible_csg':0.0680}"
   ]
  },
  {
   "cell_type": "markdown",
   "id": "33ca80c8",
   "metadata": {},
   "source": [
    "# Put here all sales and vesting event from EquatePlus\n",
    "please put all event until end of 2024, including sales / vesting from before (other years). If you have sales in 2023 or 2024 either rely on the built in function or please du check yourself how you reported them before. \n",
    "\n",
    "If you sold everything you had at one point, before 2024 then you can put only vesting and transaction after this big sale event.\n",
    "\n",
    "If you sold everything in 2024, please put all information in 2024 and even before if you want the CSG rebate computation, if you don't, you may start with all events starting after this \"big sales\". Please note this CSG rebate should be prefilled, so it is only to check.\n",
    "\n",
    "If you did not sell everything, please find out which stock you declared selling in your previous declaration (for stock sold before this year of 2024) and add the amount sold to the vesting event as amount_already_declared\n",
    "\n",
    "For sales, you need to add the stock unit price. In equate plus, go to the bibliotheque menu, then transaction. For sales, click on the date which is clickable and then report \"prix de vente\" IN USD (VERY IMPORTANT).\n",
    "\n",
    "For Macron law, only stock with grant date later than the 25th of june 2020 are Macron 3. Indeed (ridiculously) the date of interest for the macron law 3 to kick in is not the grant date, but the date of the AG autorising the grant. Sadly all of our grants coming before the June 25th 2020 are NOT macron law eligible. Should you decide to have your (wrong) interpretation of the law, it should work though.\n",
    "\n",
    "If you sold more than 300k this year, please note that the macron law 1 or 2 differs. This notebook is not handling it correctly."
   ]
  },
  {
   "cell_type": "code",
   "execution_count": 15,
   "id": "e4ab2a15",
   "metadata": {
    "ExecuteTime": {
     "end_time": "2024-05-09T14:38:24.643068Z",
     "start_time": "2024-05-09T14:38:24.626721Z"
    }
   },
   "outputs": [],
   "source": [
    "\n",
    "vesting_event = [#each row for a vesting. If you have more vesting, please copy the full line with the comma at the end, and then put your value on each row. \n",
    "    # You should fill just the date and the amount. Please let macron_law_id at 0, we do not have newer RSU. If you decide \n",
    "    # to have your personnal interpretation of the law, or have non-criteo RSU, please put 3 instead.\n",
    "                 {'date':datetime.datetime(2019,12,13),'amount':225,'macron_law_id':0, 'event':'vesting', 'amount_already_declared':225},\n",
    "                {'date':datetime.datetime(2020,3,13),'amount':28,'macron_law_id':0, 'event':'vesting', 'amount_already_declared':28},\n",
    "                {'date':datetime.datetime(2020,6,15),'amount':29,'macron_law_id':0, 'event':'vesting', 'amount_already_declared':29},\n",
    "                {'date':datetime.datetime(2020,9,14),'amount':28,'macron_law_id':0, 'event':'vesting', 'amount_already_declared':28},\n",
    "                {'date':datetime.datetime(2020,12,14),'amount':28,'macron_law_id':0, 'event':'vesting', 'amount_already_declared':28},\n",
    "    # amount sold is only for vested stock that you sold and declared in the years before. Here the previous stock was sold the 16 of december\n",
    "    # so it is the last that I am filling. It is not necessary to fill it if you sold everything you had at your last sale event last year\n",
    "    # here it should therefore do nothing because in this example, all stocks were sold. In case of doubt, just fill it.\n",
    "    # When filled, these stocks are sold in priority over all else at the next transaction.\n",
    "    # If I find stocks that were supposedly declared in 2023 that are sold in 2024, I will raise an error and ask you to check what you wrote. \n",
    "                {'date':datetime.datetime(2023,3,15),'amount':28,'macron_law_id':0, 'event':'vesting'},\n",
    "                {'date':datetime.datetime(2023,6,14),'amount':28,'macron_law_id':0, 'event':'vesting'},\n",
    "                {'date':datetime.datetime(2023,7,26),'amount':600,'macron_law_id':0, 'event':'vesting'},\n",
    "                {'date':datetime.datetime(2023,9,13),'amount':28,'macron_law_id':0, 'event':'vesting'},\n",
    "                {'date':datetime.datetime(2023,10,25),'amount':75,'macron_law_id':0, 'event':'vesting'},\n",
    "                {'date':datetime.datetime(2023,12,13),'amount':28,'macron_law_id':0, 'event':'vesting'},\n",
    "                    {'date':datetime.datetime(2024,1,25),'amount':75,'macron_law_id':0, 'event':'vesting'},\n",
    "                    {'date':datetime.datetime(2024,4,25),'amount':75,'macron_law_id':0, 'event':'vesting'},\n",
    "                    {'date':datetime.datetime(2024,6,22),'amount':250,'macron_law_id':0, 'event':'vesting'},\n",
    "                    {'date':datetime.datetime(2024,7,25),'amount':75,'macron_law_id':0, 'event':'vesting'},\n",
    "                    {'date':datetime.datetime(2024,9,22),'amount':312,'macron_law_id':0, 'event':'vesting'},\n",
    "    #     I PUT macron law id 3 for the last vesting taht is sold (the next one in december is not sold) to show you how to put it\n",
    "\n",
    "                    {'date':datetime.datetime(2024,10,25),'amount':75,'macron_law_id':3, 'event':'vesting'},\n",
    "                    {'date':datetime.datetime(2024,12,22),'amount':313,'macron_law_id':0, 'event':'vesting'}\n",
    "\n",
    "\n",
    "                ]\n",
    "\n",
    "selling_event = [\n",
    "                 #each row for a sale. If you have more sale, please copy the full line with the comma at the end, and then put your value on each row. \n",
    "    # You should just fill the date, amount, and stock_unit_price_USD, and total_fee_dollars \n",
    "    {'date':datetime.datetime(2020,8,3),'amount':282, 'event':'sale', 'stock_unit_price_USD':13.62, 'total_fee_dollars':38.5},\n",
    "    {'date':datetime.datetime(2020,12,16),'amount':56, 'event':'sale', 'stock_unit_price_USD':18.80, 'total_fee_dollars':38.5},\n",
    "    {'date':datetime.datetime(2023,3,16),'amount':28, 'event':'sale', 'stock_unit_price_USD':33.37, 'total_fee_dollars':38.5},\n",
    "    {'date':datetime.datetime(2023,8,6),'amount':628, 'event':'sale', 'stock_unit_price_USD':39.18, 'total_fee_dollars':108.26},\n",
    "    {'date':datetime.datetime(2023,9,14),'amount':28, 'event':'sale', 'stock_unit_price_USD':36.72, 'total_fee_dollars':38.5},\n",
    "    {'date':datetime.datetime(2023,11,5),'amount':75, 'event':'sale', 'stock_unit_price_USD':40.57, 'total_fee_dollars':38.5},\n",
    "    {'date':datetime.datetime(2023,12,16),'amount':28, 'event':'sale', 'stock_unit_price_USD':40.71, 'total_fee_dollars':38.5},\n",
    "        {'date':datetime.datetime(2024,5,6),'amount':50, 'event':'sale', 'stock_unit_price_USD':26.00, 'total_fee_dollars':38.5},\n",
    "    {'date':datetime.datetime(2024,8,8),'amount':30, 'event':'sale', 'stock_unit_price_USD':26.821, 'total_fee_dollars':65.71},\n",
    "    {'date':datetime.datetime(2024,8,10),'amount':75, 'event':'sale', 'stock_unit_price_USD':27.478, 'total_fee_dollars':93.7},\n",
    "        {'date':datetime.datetime(2024,8,15),'amount':320, 'event':'sale', 'stock_unit_price_USD':27.478, 'total_fee_dollars':93.7},\n",
    "    {'date':datetime.datetime(2024,11,3),'amount':387, 'event':'sale', 'stock_unit_price_USD':24.845, 'total_fee_dollars':47.11},\n",
    "\n",
    "]"
   ]
  },
  {
   "cell_type": "code",
   "execution_count": 16,
   "id": "df179f5c",
   "metadata": {
    "ExecuteTime": {
     "end_time": "2024-05-09T14:38:25.150746Z",
     "start_time": "2024-05-09T14:38:25.147280Z"
    }
   },
   "outputs": [
    {
     "name": "stdout",
     "output_type": "stream",
     "text": [
      "Your total sales amount in dollars in 2024 is equal to 22573.455. This is for sanity check\n"
     ]
    }
   ],
   "source": [
    "total_amount = 0\n",
    "for ev in selling_event:\n",
    "    if ev['date'].year == 2024:\n",
    "        total_amount +=ev['amount'] * ev['stock_unit_price_USD']\n",
    "print('Your total sales amount in dollars in 2024 is equal to {}. This is for sanity check'.format(total_amount))"
   ]
  },
  {
   "cell_type": "markdown",
   "id": "7b7ed219",
   "metadata": {},
   "source": [
    "Computation occurs here, please just run these cells"
   ]
  },
  {
   "cell_type": "code",
   "execution_count": 17,
   "id": "2ebada58",
   "metadata": {
    "ExecuteTime": {
     "end_time": "2024-05-09T14:38:27.269418Z",
     "start_time": "2024-05-09T14:38:27.266644Z"
    }
   },
   "outputs": [],
   "source": [
    "all_events_sorted = sorted(vesting_event + selling_event, key = lambda k: k['date'])"
   ]
  },
  {
   "cell_type": "code",
   "execution_count": 18,
   "id": "899a76a8",
   "metadata": {
    "ExecuteTime": {
     "end_time": "2024-05-09T14:38:27.753891Z",
     "start_time": "2024-05-09T14:38:27.745214Z"
    },
    "code_folding": [],
    "scrolled": false
   },
   "outputs": [],
   "source": [
    "portfolio = {}\n",
    "portfolio['available_stock'] = []\n",
    "portfolio['sale_event_recap'] = []\n",
    "for event in all_events_sorted:\n",
    "    if event['event'] == 'vesting':\n",
    "        portfolio['available_stock'].append(copy.deepcopy(event))\n",
    "    if event['event'] == 'sale':\n",
    "        available_stock_after_transaction, sale_event_recap = get_sales_result(event, portfolio,\n",
    "                                                                               matching_method = get_sale_order_from_optionality)\n",
    "        portfolio['available_stock'] = available_stock_after_transaction\n",
    "        portfolio['sale_event_recap'].append(sale_event_recap)\n",
    "    if event['date'].year == 2024:\n",
    "        sum_stock_supposed_to_be_sold = 0\n",
    "        for stock in portfolio['available_stock']:\n",
    "            sum_stock_supposed_to_be_sold += stock.get('amount_already_declared', 0)\n",
    "        if sum_stock_supposed_to_be_sold> 0:\n",
    "            raise Exception(\n",
    "            '''\n",
    "            you have stock that you already declared in the previous years that are getting sold in 2024. Please recheck\n",
    "            your inputs. If you declared them, they should have been sold in the past.            \n",
    "            ''')\n",
    "        "
   ]
  },
  {
   "cell_type": "code",
   "execution_count": 19,
   "id": "74af5170",
   "metadata": {
    "ExecuteTime": {
     "end_time": "2024-05-09T14:38:28.291863Z",
     "start_time": "2024-05-09T14:38:28.288207Z"
    }
   },
   "outputs": [
    {
     "data": {
      "text/plain": [
       "[{'date': datetime.datetime(2024, 12, 22, 0, 0),\n",
       "  'amount': 313,\n",
       "  'macron_law_id': 0,\n",
       "  'event': 'vesting'}]"
      ]
     },
     "execution_count": 19,
     "metadata": {},
     "output_type": "execute_result"
    }
   ],
   "source": [
    "available_stock_after_transaction"
   ]
  },
  {
   "cell_type": "markdown",
   "id": "6882247b",
   "metadata": {},
   "source": [
    "# Results to put in your taxation returns\n",
    "The following cells prints all transaction for the form No 2074. \n",
    "For the cell 511 mettre Action criteo et computershare.\n",
    "Vesting amount with moins value, rebate etc... are for debugging purposes, please look if they make sense.\n",
    "\n",
    "To explain quickly what we do here, for each sale, you are taxed on your vesting amount (the value of the stock the day you vest them) as if it was income and with the 30% flat tax for any capital gain on top of the vesting amount.\n",
    "\n",
    "In order to avoid to tax you on money you do not have, if you have a capital loss, instead of declaring it as a capital loss, it is removed from your vesting amount and in this case, your selling amount(money you get from your sales) becomes your vesting amount.\n",
    "\n",
    "Then, because this is france, we created tax rebate that depends on if the stock was granted to you after the 25th of june 2020 (in which case you only pay income tax on 50% of the vesting gain for reasons) of, if it is granted before this date, it depends if you have kept the stock two years after the vesting, and then you get the 50% rebate as for macron 3.\n",
    "\n",
    "Because it was too easy, there is a specificity if you sell more than 300k. because I am not paid for this, it is NOT well handled in this notebook and it won't until I am myself in this situation (soon I hope).\n",
    "\n",
    "This explains all the complex computation below."
   ]
  },
  {
   "cell_type": "code",
   "execution_count": 20,
   "id": "faf3d9c5",
   "metadata": {
    "ExecuteTime": {
     "end_time": "2024-05-09T14:38:30.390623Z",
     "start_time": "2024-05-09T14:38:30.371930Z"
    },
    "scrolled": true
   },
   "outputs": [
    {
     "name": "stdout",
     "output_type": "stream",
     "text": [
      "\n",
      " ----------------NOUVELLE TRANSACTION ---------- \n",
      "\n",
      "date de la cession (512) 2024-08-08 00:00:00\n",
      "valeur unitaire de la cession (514) 26.2976762427689\n",
      "nombre de titres cedes (515) 30\n",
      "montant global (516) 788.9302872830671\n",
      "frais de cession (517) 64.4278850867732\n",
      "prix de cession net (518) 724.5024021962938\n",
      "prix ou valeur acquisition unitaire (520) 22.89099526066351\n",
      "prix daquisition global (521 et 523) 686.7298578199053\n",
      "resultat 37.77254437638851\n",
      "vesting_amount_with_moins_value 686.7298578199053\n",
      "rebate_with_moins_value 0.0\n",
      "rebate 0\n",
      "tax 354.7966217299438\n",
      "macron_law_id 0\n",
      "\n",
      " ----------------NOUVELLE TRANSACTION ---------- \n",
      "\n",
      "date de la cession (512) 2024-08-10 00:00:00\n",
      "valeur unitaire de la cession (514) 26.802575107296143\n",
      "nombre de titres cedes (515) 75\n",
      "montant global (516) 2010.1931330472107\n",
      "frais de cession (517) 91.39680062426845\n",
      "prix de cession net (518) 1918.7963324229422\n",
      "prix ou valeur acquisition unitaire (520) 22.89099526066351\n",
      "prix daquisition global (521 et 523) 1716.8246445497632\n",
      "resultat 201.971687873179\n",
      "vesting_amount_with_moins_value 1716.8246445497632\n",
      "rebate_with_moins_value 0.0\n",
      "rebate 0\n",
      "tax 898.3517787767224\n",
      "macron_law_id 0\n",
      "\n",
      " ----------------NOUVELLE TRANSACTION ---------- \n",
      "\n",
      "date de la cession (512) 2024-08-15 00:00:00\n",
      "valeur unitaire de la cession (514) 26.95242766061795\n",
      "nombre de titres cedes (515) 145\n",
      "montant global (516) 3908.102010789603\n",
      "frais de cession (517) 22.976949485041686\n",
      "prix de cession net (518) 3885.1250613045613\n",
      "prix ou valeur acquisition unitaire (520) 22.89099526066351\n",
      "prix daquisition global (521 et 523) 3319.1943127962086\n",
      "resultat 565.9307485083527\n",
      "vesting_amount_with_moins_value 3319.1943127962086\n",
      "rebate_with_moins_value 0.0\n",
      "rebate 0\n",
      "tax 1743.3320250378288\n",
      "macron_law_id 0\n",
      "\n",
      " ----------------NOUVELLE TRANSACTION ---------- \n",
      "\n",
      "date de la cession (512) 2024-08-15 00:00:00\n",
      "valeur unitaire de la cession (514) 26.95242766061795\n",
      "nombre de titres cedes (515) 75\n",
      "montant global (516) 2021.4320745463463\n",
      "frais de cession (517) 22.976949485041686\n",
      "prix de cession net (518) 1998.4551250613047\n",
      "prix ou valeur acquisition unitaire (520) 22.958186791715512\n",
      "prix daquisition global (521 et 523) 1721.8640093786635\n",
      "resultat 276.5911156826412\n",
      "vesting_amount_with_moins_value 1721.8640093786635\n",
      "rebate_with_moins_value 0.0\n",
      "rebate 0\n",
      "tax 902.5902319770339\n",
      "macron_law_id 0\n",
      "\n",
      " ----------------NOUVELLE TRANSACTION ---------- \n",
      "\n",
      "date de la cession (512) 2024-08-15 00:00:00\n",
      "valeur unitaire de la cession (514) 26.95242766061795\n",
      "nombre de titres cedes (515) 75\n",
      "montant global (516) 2021.4320745463463\n",
      "frais de cession (517) 22.976949485041686\n",
      "prix de cession net (518) 1998.4551250613047\n",
      "prix ou valeur acquisition unitaire (520) 23.264470500651406\n",
      "prix daquisition global (521 et 523) 1744.8352875488554\n",
      "resultat 253.6198375124493\n",
      "vesting_amount_with_moins_value 1744.8352875488554\n",
      "rebate_with_moins_value 0.0\n",
      "rebate 0\n",
      "tax 906.5412918223069\n",
      "macron_law_id 0\n"
     ]
    }
   ],
   "source": [
    "tax = 0\n",
    "Capital_gain = 0\n",
    "vesting_gain_before_rebate = 0\n",
    "rebate_amount_macron_3 = 0\n",
    "rebate_amount_from_detention = 0\n",
    "total_selling_price = 0\n",
    "csg_rebate = 0\n",
    "Capital_gain_2023 = 0\n",
    "rebate_amount_2023 = 0\n",
    "vesting_gain_before_rebate_2023 = 0\n",
    "transaction = 1\n",
    "for event in portfolio['sale_event_recap']:\n",
    "    for ev in event:            \n",
    "        if ev['date de la cession (512)'].year ==2024:\n",
    "            tax +=ev['tax']\n",
    "            total_selling_price += ev['prix de cession net (518)']\n",
    "            vesting_gain_before_rebate += ev['vesting_amount_with_moins_value']\n",
    "\n",
    "            if ev['macron_law_id'] == 3:\n",
    "                rebate_amount_macron_3 += ev['rebate_with_moins_value']\n",
    "            else:\n",
    "                rebate_amount_from_detention += ev['rebate_with_moins_value']\n",
    "\n",
    "            if ev['resultat'] > 0:\n",
    "                print(f'\\n ----------------NOUVELLE TRANSACTION n°{transaction}---------- \\n')\n",
    "                transaction+=1\n",
    "                copy_print('Désignation des titres et des intermédiaires financiers (511)','Actions CRITEO - Computershare')\n",
    "                for key, value in ev.items():\n",
    "                            copy_print(key, value)\n",
    "                Capital_gain += ev['resultat']\n",
    "            \n",
    "        if ev['date de la cession (512)'].year ==2023:\n",
    "            #here it is to compute CSG than can be dedudected from last year, box 6DE. Only what is \n",
    "            # subject to IR can be deducted, hence only the  vesting amount after rebate and moins value\n",
    "            #will be deductible\n",
    "            if ev['resultat'] > 0:\n",
    "                Capital_gain_2023 += ev['resultat']\n",
    "\n",
    "            rebate_amount_2023 += ev['rebate_with_moins_value']\n",
    "            vesting_gain_before_rebate_2023 += ev['vesting_amount_with_moins_value']\n",
    "        \n"
   ]
  },
  {
   "cell_type": "markdown",
   "id": "c87f3ddd",
   "metadata": {
    "ExecuteTime": {
     "end_time": "2024-05-09T12:42:20.463219Z",
     "start_time": "2024-05-09T12:42:20.458892Z"
    }
   },
   "source": [
    "# For debugging / your interest only\n",
    "The following cell shows all transaction with a loss. You don't have to report them in the plus or moins value, but they have been used to compute values in form 2042 C and are shown here if you want to check that there isn\\t any mistake or understand better the process"
   ]
  },
  {
   "cell_type": "code",
   "execution_count": 21,
   "id": "7c86ffb9",
   "metadata": {
    "ExecuteTime": {
     "end_time": "2024-05-09T14:38:31.541482Z",
     "start_time": "2024-05-09T14:38:31.520773Z"
    }
   },
   "outputs": [
    {
     "name": "stdout",
     "output_type": "stream",
     "text": [
      "\n",
      " ----------------NOUVELLE TRANSACTION ---------- \n",
      "\n",
      "date de la cession (512) 2024-05-06 00:00:00\n",
      "valeur unitaire de la cession (514) 24.597918637653738\n",
      "nombre de titres cedes (515) 50\n",
      "montant global (516) 1229.895931882687\n",
      "frais de cession (517) 36.42384105960265\n",
      "prix de cession net (518) 1193.4720908230843\n",
      "prix ou valeur acquisition unitaire (520) 29.605963791267303\n",
      "prix daquisition global (521 et 523) 1480.2981895633652\n",
      "resultat -286.82609874028094\n",
      "vesting_amount_with_moins_value 1229.895931882687\n",
      "rebate_with_moins_value 0.0\n",
      "rebate 0\n",
      "tax 580.5108798486282\n",
      "macron_law_id 0\n",
      "\n",
      " ----------------NOUVELLE TRANSACTION ---------- \n",
      "\n",
      "date de la cession (512) 2024-08-15 00:00:00\n",
      "valeur unitaire de la cession (514) 26.95242766061795\n",
      "nombre de titres cedes (515) 25\n",
      "montant global (516) 673.8106915154488\n",
      "frais de cession (517) 22.976949485041686\n",
      "prix de cession net (518) 650.833742030407\n",
      "prix ou valeur acquisition unitaire (520) 29.605963791267303\n",
      "prix daquisition global (521 et 523) 740.1490947816826\n",
      "resultat -89.31535275127555\n",
      "vesting_amount_with_moins_value 673.8106915154488\n",
      "rebate_with_moins_value 0.0\n",
      "rebate 0\n",
      "tax 318.0386463952918\n",
      "macron_law_id 0\n",
      "\n",
      " ----------------NOUVELLE TRANSACTION ---------- \n",
      "\n",
      "date de la cession (512) 2024-11-03 00:00:00\n",
      "valeur unitaire de la cession (514) 25.47421306264739\n",
      "nombre de titres cedes (515) 75\n",
      "montant global (516) 1910.5659796985542\n",
      "frais de cession (517) 24.151543114938995\n",
      "prix de cession net (518) 1886.4144365836153\n",
      "prix ou valeur acquisition unitaire (520) 26.924247033769397\n",
      "prix daquisition global (521 et 523) 2019.3185275327048\n",
      "resultat -132.90409094908955\n",
      "vesting_amount_with_moins_value 1910.5659796985542\n",
      "rebate_with_moins_value 955.2829898492771\n",
      "rebate 0.5\n",
      "tax 615.2024454629343\n",
      "macron_law_id 3\n",
      "\n",
      " ----------------NOUVELLE TRANSACTION ---------- \n",
      "\n",
      "date de la cession (512) 2024-11-03 00:00:00\n",
      "valeur unitaire de la cession (514) 25.47421306264739\n",
      "nombre de titres cedes (515) 312\n",
      "montant global (516) 7947.954475545986\n",
      "frais de cession (517) 24.151543114938995\n",
      "prix de cession net (518) 7923.802932431046\n",
      "prix ou valeur acquisition unitaire (520) 28.63213273978147\n",
      "prix daquisition global (521 et 523) 8933.225414811819\n",
      "resultat -1009.4224823807726\n",
      "vesting_amount_with_moins_value 7947.954475545986\n",
      "rebate_with_moins_value 0.0\n",
      "rebate 0\n",
      "tax 3751.4345124577053\n",
      "macron_law_id 0\n"
     ]
    }
   ],
   "source": [
    "for event in portfolio['sale_event_recap']:\n",
    "    for ev in event:            \n",
    "        if ev['date de la cession (512)'].year == 2024:\n",
    "            if ev['resultat'] < 0:\n",
    "                print('\\n ----------------NOUVELLE TRANSACTION ---------- \\n')\n",
    "                for key, v in ev.items():\n",
    "                    match v:\n",
    "                        case datetime.datetime():\n",
    "                            print(key, v.strftime('%d/%m/%Y'))\n",
    "                        case float():\n",
    "                            print(key, f\"{v:.2f}\")\n",
    "                        case _:\n",
    "                            print(key, v)\n"
   ]
  },
  {
   "cell_type": "markdown",
   "id": "8e9ad7bd",
   "metadata": {},
   "source": [
    "Normally here you should have automatically computed the sum of \"plus value\", and it should be equal to the value printed in the cell below. \n",
    "For all transaction resulting in a moins value, I removed the moins value from the vesting price to redue the taxes"
   ]
  },
  {
   "cell_type": "code",
   "execution_count": 22,
   "id": "0a0ebda4",
   "metadata": {
    "ExecuteTime": {
     "end_time": "2024-05-09T14:38:32.502771Z",
     "start_time": "2024-05-09T14:38:32.500023Z"
    }
   },
   "outputs": [
    {
     "name": "stdout",
     "output_type": "stream",
     "text": [
      "The total capital gain is 1335.8859339530106\n"
     ]
    }
   ],
   "source": [
    "print('The total capital gain is {}'.format(Capital_gain))"
   ]
  },
  {
   "cell_type": "code",
   "execution_count": 23,
   "id": "c79c47af",
   "metadata": {
    "ExecuteTime": {
     "end_time": "2024-05-09T14:38:33.333215Z",
     "start_time": "2024-05-09T14:38:33.330333Z"
    }
   },
   "outputs": [],
   "source": [
    "vesting_gain_after_rebate_and_moins_value = vesting_gain_before_rebate - rebate_amount_macron_3 - rebate_amount_from_detention\n",
    "total_tax_to_pay_approx = vesting_gain_after_rebate_and_moins_value * (tax_info_dict['TMI_IR']) + vesting_gain_before_rebate * tax_info_dict[\n",
    "        'cotisation'] + Capital_gain * tax_info_dict[\n",
    "                     'flat_tax_plus_value']\n"
   ]
  },
  {
   "cell_type": "code",
   "execution_count": 24,
   "id": "be5aa9e9",
   "metadata": {
    "ExecuteTime": {
     "end_time": "2024-05-09T14:38:33.913549Z",
     "start_time": "2024-05-09T14:38:33.907104Z"
    }
   },
   "outputs": [
    {
     "name": "stdout",
     "output_type": "stream",
     "text": [
      "fill 1TZ, form 2042 C with  19996.392200886792\n",
      "fill 1UZ abbatement pour duree de detention, form 2042 C with the rebate in euro 0.0\n",
      "fill 1WZ abattement de 50%, form 2042 C with the rebate in euro 955.2829898492771\n",
      "fill 3VG , form 2042 C with capital gain 1335.8859339530106\n",
      "fill 3VH , form 2042 C with capital loss 0 except if you have other sources of capital losses. You fill 0 because you are removing these losses from the 1TZ field\n",
      "You sold for 22179.86 euros in stocks\n",
      "You will pay around  12202.97 this amount of tax, sorry\n"
     ]
    }
   ],
   "source": [
    "if vesting_gain_after_rebate_and_moins_value > 300000:\n",
    "    print('fill 1TT, form 2042 C with ', vesting_gain_after_rebate_and_moins_value - 300000 )\n",
    "print('fill 1TZ, form 2042 C with ', vesting_gain_after_rebate_and_moins_value)\n",
    "print('fill 1UZ abbatement pour duree de detention, form 2042 C with the rebate in euro', rebate_amount_from_detention )\n",
    "print('fill 1WZ abattement de 50%, form 2042 C with the rebate in euro', rebate_amount_macron_3 )\n",
    "\n",
    "print('fill 3VG , form 2042 C with capital gain', Capital_gain)\n",
    "print('fill 3VH , form 2042 C with capital loss', 0, 'except if you have other sources of capital losses. You fill 0 because you are removing these losses from the 1TZ field' )\n",
    "\n",
    "\n",
    "print('You sold for {} euros in stocks'.format(np.round(total_selling_price,2)))\n",
    "print('You will pay around  {} this amount of tax, sorry'.format(np.round(total_tax_to_pay_approx ,2)))"
   ]
  },
  {
   "cell_type": "markdown",
   "id": "1fb75964",
   "metadata": {},
   "source": [
    "# CSG deduction from previous year (2023)\n",
    "WARNING WE CHANGED THE WAY TO COMPENSATE BETWEEN PLUS OR MOINS VALUE SO YOU MAY HAVE SMALL CHANGES HERE\n",
    "if pre filled, keep the pre filled version"
   ]
  },
  {
   "cell_type": "markdown",
   "id": "95499afc",
   "metadata": {},
   "source": [
    "If you ahve your previous tax filling, it should be equal to your 1TZ case of last year times the deductible CSG, which is at 6.8%. If you don't, you can use this, should work. It is very likely to be pre filled though. Still there in case of need\n"
   ]
  },
  {
   "cell_type": "code",
   "execution_count": 25,
   "id": "864aa8b5",
   "metadata": {
    "ExecuteTime": {
     "end_time": "2024-05-09T14:38:41.813043Z",
     "start_time": "2024-05-09T14:38:41.809736Z"
    }
   },
   "outputs": [],
   "source": [
    "if vesting_gain_before_rebate_2023 ==0:\n",
    "    print('sorry, no CSG to be deducted for this year!')\n",
    "    vesting_gain_after_rebate_and_moins_value_2023 =0\n",
    "    deductible_csg = vesting_gain_before_rebate_2023 * tax_info_dict['deductible_csg']\n",
    "else:\n",
    "    vesting_gain_after_rebate_and_moins_value_2023 = vesting_gain_before_rebate_2023 - rebate_amount_2023\n",
    "    deductible_csg = vesting_gain_after_rebate_and_moins_value_2023 * tax_info_dict['deductible_csg']\n",
    "   "
   ]
  },
  {
   "cell_type": "code",
   "execution_count": 26,
   "id": "cefe7306",
   "metadata": {
    "ExecuteTime": {
     "end_time": "2024-05-09T14:38:42.276817Z",
     "start_time": "2024-05-09T14:38:42.273361Z"
    }
   },
   "outputs": [
    {
     "name": "stdout",
     "output_type": "stream",
     "text": [
      "fill box 6DE 1745.7959077266146\n"
     ]
    }
   ],
   "source": [
    "print('fill box 6DE', deductible_csg)"
   ]
  },
  {
   "cell_type": "code",
   "execution_count": null,
   "id": "f2a62c7f",
   "metadata": {},
   "outputs": [],
   "source": []
  },
  {
   "cell_type": "code",
   "execution_count": null,
   "id": "1af9db23",
   "metadata": {},
   "outputs": [],
   "source": []
  }
 ],
 "metadata": {
  "hide_input": false,
  "kernelspec": {
   "display_name": "Python Criteo (MOAB #53512)",
   "language": "python",
   "name": "python-kernel-53512"
  },
  "language_info": {
   "codemirror_mode": {
    "name": "ipython",
    "version": 3
   },
   "file_extension": ".py",
   "mimetype": "text/x-python",
   "name": "python",
   "nbconvert_exporter": "python",
   "pygments_lexer": "ipython3",
   "version": "3.6.8"
  },
  "toc": {
   "base_numbering": 1,
   "nav_menu": {},
   "number_sections": true,
   "sideBar": true,
   "skip_h1_title": false,
   "title_cell": "Table of Contents",
   "title_sidebar": "Contents",
   "toc_cell": false,
   "toc_position": {},
   "toc_section_display": true,
   "toc_window_display": false
  }
 },
 "nbformat": 4,
 "nbformat_minor": 5
}
